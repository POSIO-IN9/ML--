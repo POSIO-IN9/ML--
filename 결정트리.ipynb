{
 "cells": [
  {
   "cell_type": "markdown",
   "metadata": {},
   "source": [
    "#### 결정트리\n",
    ">분류와 회귀 문제에 쓸 수 있지만 잘 안쓰고 주요특성을 파악하기 위해서 쓴다\n",
    "\n",
    "질문을 통한 답변형식을 통해서 주요특성의 이해도를 높힌다\n",
    "1.주요특성 파악을 위해 쓴다고 인식\n",
    "2.수형도\n",
    "3.수형도 값 파악 "
   ]
  },
  {
   "cell_type": "markdown",
   "metadata": {},
   "source": [
    "#### 0.노트설정\n"
   ]
  },
  {
   "cell_type": "markdown",
   "metadata": {},
   "source": [
    "결정트리는 특성값을 파악하고 랜덤포레스트로 넘어간다. 데이터 민감도를 생각한다면 결정트리를 못쓰지만 특성값 파악에는 좋은 것이다. 하지만 베이스 라인 없이는 쓰지 못한다.\n",
    "베이스라인으로 직관적인 파악. 선형모델을 다 했다 가정. 랜덤포레스트를 돌려 결과값 확인. 결과값을 정리해서. 퓨처값 데이터로 결정트리에 넣었다 뺀다. 그거 두번돌려. 0.74가 나오면 실제 퓨처가 작동됨. 마킹하고 다른 것들 확인. 다른 것들도 돌렸는데 0.74면 필요없는 것들 커팅후 해당 데이터 시각화. 0.67이 나오면 svm으로가 svm에서 0.89나오면 끝내라.  "
   ]
  },
  {
   "cell_type": "code",
   "execution_count": 1,
   "metadata": {},
   "outputs": [],
   "source": [
    "%config inlineBackend.figure_format='retina'\n"
   ]
  },
  {
   "cell_type": "code",
   "execution_count": 7,
   "metadata": {},
   "outputs": [],
   "source": [
    "import sklearn\n",
    "import numpy\n",
    "import mglearn\n"
   ]
  },
  {
   "cell_type": "code",
   "execution_count": null,
   "metadata": {},
   "outputs": [],
   "source": []
  }
 ],
 "metadata": {
  "kernelspec": {
   "display_name": "Python 3",
   "language": "python",
   "name": "python3"
  },
  "language_info": {
   "codemirror_mode": {
    "name": "ipython",
    "version": 3
   },
   "file_extension": ".py",
   "mimetype": "text/x-python",
   "name": "python",
   "nbconvert_exporter": "python",
   "pygments_lexer": "ipython3",
   "version": "3.9.13"
  }
 },
 "nbformat": 4,
 "nbformat_minor": 2
}
